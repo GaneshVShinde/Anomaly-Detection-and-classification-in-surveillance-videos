{
 "cells": [
  {
   "cell_type": "code",
   "execution_count": 1,
   "metadata": {},
   "outputs": [],
   "source": [
    "import pickle\n",
    "import numpy as np\n",
    "import matplotlib.pyplot as plt\n",
    "import os"
   ]
  },
  {
   "cell_type": "code",
   "execution_count": 2,
   "metadata": {},
   "outputs": [],
   "source": [
    "import tensorflow as tf"
   ]
  },
  {
   "cell_type": "code",
   "execution_count": 3,
   "metadata": {},
   "outputs": [],
   "source": [
    "fl=open(\"./Data_set.pkl\",'rb')\n",
    "data=pickle.load(fl)"
   ]
  },
  {
   "cell_type": "code",
   "execution_count": 4,
   "metadata": {},
   "outputs": [
    {
     "data": {
      "text/plain": [
       "dict_keys(['File_location', 'Anomaly_type', 'Anomaly_frame'])"
      ]
     },
     "execution_count": 4,
     "metadata": {},
     "output_type": "execute_result"
    }
   ],
   "source": [
    "data.keys()"
   ]
  },
  {
   "cell_type": "code",
   "execution_count": 5,
   "metadata": {},
   "outputs": [],
   "source": [
    "frames=[]\n",
    "class_type=[]\n",
    "path=\"./out/\""
   ]
  },
  {
   "cell_type": "code",
   "execution_count": 6,
   "metadata": {},
   "outputs": [],
   "source": [
    "for i,frm in enumerate(data['Anomaly_frame']):\n",
    "    if len(frm) != 0:\n",
    "        vid_path=os.path.join(path,data['File_location'][i] )\n",
    "        with open(vid_path,'r') as f:\n",
    "            lines = f.read().splitlines()\n",
    "        for frm_no in data['Anomaly_frame'][i]:\n",
    "            frames.append(np.float32(lines[frm_no].split()))\n",
    "            class_type.append(data['Anomaly_type'])\n",
    "    "
   ]
  },
  {
   "cell_type": "markdown",
   "metadata": {},
   "source": [
    "### Dataset is now ready\n",
    "### frames_list contains video frames which has anomaly and class_type has kind of anomaly(Fighting/Accident)"
   ]
  },
  {
   "cell_type": "code",
   "execution_count": 7,
   "metadata": {},
   "outputs": [
    {
     "data": {
      "text/plain": [
       "(734, 734)"
      ]
     },
     "execution_count": 7,
     "metadata": {},
     "output_type": "execute_result"
    }
   ],
   "source": [
    "len(frames),len(class_type)"
   ]
  },
  {
   "cell_type": "code",
   "execution_count": 8,
   "metadata": {},
   "outputs": [],
   "source": [
    "frames=np.array(frames)\n",
    "class_type =np.array(class_type)\n",
    "class_type = class_type.flatten()"
   ]
  },
  {
   "cell_type": "code",
   "execution_count": 9,
   "metadata": {},
   "outputs": [],
   "source": [
    "from tensorflow.contrib.layers import fully_connected,dropout"
   ]
  },
  {
   "cell_type": "code",
   "execution_count": 10,
   "metadata": {},
   "outputs": [],
   "source": [
    "n_inputs = 4096\n",
    "n_hidden1 = 512\n",
    "n_hidden2 = 100\n",
    "n_outputs = 2"
   ]
  },
  {
   "cell_type": "code",
   "execution_count": 11,
   "metadata": {},
   "outputs": [],
   "source": [
    "X=tf.placeholder(tf.float32,shape=(None,n_inputs)\n",
    "                ,name='X')\n",
    "Y=tf.placeholder(tf.int64,shape=(None),name='Y')"
   ]
  },
  {
   "cell_type": "code",
   "execution_count": 12,
   "metadata": {},
   "outputs": [],
   "source": [
    "with tf.name_scope(\"dnn\"):\n",
    "    hidden1 = fully_connected(X,n_hidden1,scope=\"hidden1\")\n",
    "    \n",
    "    hidden1_drop=dropout(hidden1,keep_prob=0.4)\n",
    "    \n",
    "    hidden2 = fully_connected(hidden1_drop,n_hidden1,scope=\"hidden2\")\n",
    "    \n",
    "    hidden2_drop=dropout(hidden2,keep_prob=0.6)\n",
    "    \n",
    "    logits=fully_connected(hidden2_drop,n_outputs,scope=\"output\",activation_fn=None)"
   ]
  },
  {
   "cell_type": "code",
   "execution_count": 13,
   "metadata": {},
   "outputs": [],
   "source": [
    "with tf.name_scope(\"loss\"):\n",
    "    xentropy = tf.nn.sparse_softmax_cross_entropy_with_logits(\n",
    "        labels=Y, logits=logits)\n",
    "    loss = tf.reduce_mean(xentropy, name=\"loss\")"
   ]
  },
  {
   "cell_type": "code",
   "execution_count": 14,
   "metadata": {},
   "outputs": [],
   "source": [
    "learning_rate = 0.01\n",
    "with tf.name_scope(\"train\"):\n",
    "    optimizer = tf.train.AdamOptimizer(learning_rate)\n",
    "    training_op = optimizer.minimize(loss)"
   ]
  },
  {
   "cell_type": "code",
   "execution_count": 15,
   "metadata": {},
   "outputs": [],
   "source": [
    "with tf.name_scope(\"blaa\"):\n",
    "    correct = tf.nn.in_top_k(logits, Y, 1)\n",
    "    accuracy = tf.reduce_mean(tf.cast(correct, tf.float32))"
   ]
  },
  {
   "cell_type": "code",
   "execution_count": 16,
   "metadata": {},
   "outputs": [],
   "source": [
    "n_epochs = 100\n",
    "batch_size = 50\n",
    "batch_training=50\n",
    "accTr=[]\n",
    "accTst=[]\n",
    "saver = tf.train.Saver()"
   ]
  },
  {
   "cell_type": "code",
   "execution_count": 17,
   "metadata": {},
   "outputs": [],
   "source": [
    "init = tf.global_variables_initializer()\n",
    "sess = tf.Session()\n",
    "sess.run(init)\n"
   ]
  },
  {
   "cell_type": "code",
   "execution_count": 18,
   "metadata": {},
   "outputs": [
    {
     "name": "stdout",
     "output_type": "stream",
     "text": [
      "0 Train accuracy: 0.86 Test accuracy: 0.8333333\n",
      "1 Train accuracy: 0.88 Test accuracy: 0.93333334\n",
      "2 Train accuracy: 0.84 Test accuracy: 0.96666664\n",
      "3 Train accuracy: 0.86 Test accuracy: 0.96666664\n",
      "4 Train accuracy: 0.98 Test accuracy: 0.9\n",
      "5 Train accuracy: 0.94 Test accuracy: 0.96666664\n",
      "6 Train accuracy: 0.98 Test accuracy: 0.96666664\n",
      "7 Train accuracy: 0.98 Test accuracy: 0.96666664\n",
      "8 Train accuracy: 0.94 Test accuracy: 0.96666664\n",
      "9 Train accuracy: 0.98 Test accuracy: 1.0\n",
      "10 Train accuracy: 0.96 Test accuracy: 1.0\n",
      "11 Train accuracy: 0.98 Test accuracy: 0.93333334\n",
      "12 Train accuracy: 0.96 Test accuracy: 0.93333334\n",
      "13 Train accuracy: 0.9 Test accuracy: 1.0\n",
      "14 Train accuracy: 1.0 Test accuracy: 0.9\n",
      "15 Train accuracy: 0.96 Test accuracy: 0.96666664\n",
      "16 Train accuracy: 0.96 Test accuracy: 0.9\n",
      "17 Train accuracy: 0.94 Test accuracy: 0.9\n",
      "18 Train accuracy: 0.98 Test accuracy: 0.93333334\n",
      "19 Train accuracy: 1.0 Test accuracy: 1.0\n",
      "20 Train accuracy: 0.92 Test accuracy: 1.0\n",
      "21 Train accuracy: 0.98 Test accuracy: 0.96666664\n",
      "22 Train accuracy: 1.0 Test accuracy: 1.0\n",
      "23 Train accuracy: 0.98 Test accuracy: 1.0\n",
      "24 Train accuracy: 1.0 Test accuracy: 0.96666664\n",
      "25 Train accuracy: 0.98 Test accuracy: 0.93333334\n",
      "26 Train accuracy: 0.92 Test accuracy: 1.0\n",
      "27 Train accuracy: 0.94 Test accuracy: 1.0\n",
      "28 Train accuracy: 0.98 Test accuracy: 0.96666664\n",
      "29 Train accuracy: 0.98 Test accuracy: 1.0\n",
      "30 Train accuracy: 0.94 Test accuracy: 1.0\n",
      "31 Train accuracy: 1.0 Test accuracy: 0.96666664\n",
      "32 Train accuracy: 1.0 Test accuracy: 1.0\n",
      "33 Train accuracy: 1.0 Test accuracy: 0.96666664\n",
      "34 Train accuracy: 0.98 Test accuracy: 0.96666664\n",
      "35 Train accuracy: 0.96 Test accuracy: 0.96666664\n",
      "36 Train accuracy: 1.0 Test accuracy: 1.0\n",
      "37 Train accuracy: 0.94 Test accuracy: 0.93333334\n",
      "38 Train accuracy: 0.98 Test accuracy: 0.96666664\n",
      "39 Train accuracy: 1.0 Test accuracy: 1.0\n",
      "40 Train accuracy: 0.94 Test accuracy: 0.93333334\n",
      "41 Train accuracy: 0.98 Test accuracy: 1.0\n",
      "42 Train accuracy: 0.98 Test accuracy: 1.0\n",
      "43 Train accuracy: 0.98 Test accuracy: 1.0\n",
      "44 Train accuracy: 0.98 Test accuracy: 1.0\n",
      "45 Train accuracy: 0.98 Test accuracy: 1.0\n",
      "46 Train accuracy: 0.98 Test accuracy: 1.0\n",
      "47 Train accuracy: 1.0 Test accuracy: 1.0\n",
      "48 Train accuracy: 0.98 Test accuracy: 0.96666664\n",
      "49 Train accuracy: 0.9 Test accuracy: 1.0\n",
      "50 Train accuracy: 1.0 Test accuracy: 0.96666664\n",
      "51 Train accuracy: 0.98 Test accuracy: 0.93333334\n",
      "52 Train accuracy: 0.96 Test accuracy: 1.0\n",
      "53 Train accuracy: 0.94 Test accuracy: 0.9\n",
      "54 Train accuracy: 0.96 Test accuracy: 0.96666664\n",
      "55 Train accuracy: 1.0 Test accuracy: 0.93333334\n",
      "56 Train accuracy: 0.98 Test accuracy: 0.96666664\n",
      "57 Train accuracy: 1.0 Test accuracy: 1.0\n",
      "58 Train accuracy: 0.96 Test accuracy: 1.0\n",
      "59 Train accuracy: 1.0 Test accuracy: 0.93333334\n",
      "60 Train accuracy: 0.98 Test accuracy: 0.93333334\n",
      "61 Train accuracy: 1.0 Test accuracy: 1.0\n",
      "62 Train accuracy: 0.98 Test accuracy: 0.96666664\n",
      "63 Train accuracy: 0.94 Test accuracy: 0.96666664\n",
      "64 Train accuracy: 0.98 Test accuracy: 0.93333334\n",
      "65 Train accuracy: 0.96 Test accuracy: 1.0\n",
      "66 Train accuracy: 0.94 Test accuracy: 0.96666664\n",
      "67 Train accuracy: 0.92 Test accuracy: 0.96666664\n",
      "68 Train accuracy: 0.98 Test accuracy: 0.93333334\n",
      "69 Train accuracy: 0.96 Test accuracy: 0.9\n",
      "70 Train accuracy: 0.96 Test accuracy: 0.93333334\n",
      "71 Train accuracy: 0.98 Test accuracy: 1.0\n",
      "72 Train accuracy: 0.92 Test accuracy: 0.96666664\n",
      "73 Train accuracy: 1.0 Test accuracy: 1.0\n",
      "74 Train accuracy: 0.96 Test accuracy: 0.96666664\n",
      "75 Train accuracy: 0.96 Test accuracy: 1.0\n",
      "76 Train accuracy: 0.96 Test accuracy: 0.93333334\n",
      "77 Train accuracy: 1.0 Test accuracy: 1.0\n",
      "78 Train accuracy: 1.0 Test accuracy: 0.8666667\n",
      "79 Train accuracy: 0.98 Test accuracy: 1.0\n",
      "80 Train accuracy: 1.0 Test accuracy: 1.0\n",
      "81 Train accuracy: 1.0 Test accuracy: 1.0\n",
      "82 Train accuracy: 0.98 Test accuracy: 1.0\n",
      "83 Train accuracy: 1.0 Test accuracy: 1.0\n",
      "84 Train accuracy: 0.98 Test accuracy: 0.96666664\n",
      "85 Train accuracy: 0.94 Test accuracy: 0.9\n",
      "86 Train accuracy: 0.96 Test accuracy: 0.96666664\n",
      "87 Train accuracy: 0.98 Test accuracy: 1.0\n",
      "88 Train accuracy: 0.92 Test accuracy: 0.96666664\n",
      "89 Train accuracy: 1.0 Test accuracy: 1.0\n",
      "90 Train accuracy: 1.0 Test accuracy: 1.0\n",
      "91 Train accuracy: 1.0 Test accuracy: 0.93333334\n",
      "92 Train accuracy: 0.96 Test accuracy: 0.96666664\n",
      "93 Train accuracy: 0.96 Test accuracy: 0.96666664\n",
      "94 Train accuracy: 0.98 Test accuracy: 1.0\n",
      "95 Train accuracy: 1.0 Test accuracy: 0.96666664\n",
      "96 Train accuracy: 0.98 Test accuracy: 1.0\n",
      "97 Train accuracy: 0.96 Test accuracy: 1.0\n",
      "98 Train accuracy: 0.98 Test accuracy: 1.0\n",
      "99 Train accuracy: 1.0 Test accuracy: 1.0\n"
     ]
    }
   ],
   "source": [
    "\n",
    "for epoch in range(n_epochs):\n",
    "    for iteration in range(10):\n",
    "\n",
    "        rndm = np.random.randint(0,733,batch_size) # taking random frames\n",
    "        X_batch = frames[rndm]\n",
    "        Y_batch = class_type[rndm]\n",
    "\n",
    "\n",
    "        sess.run(training_op, feed_dict={X: X_batch, Y: Y_batch})\n",
    "\n",
    "\n",
    "    acc_train = accuracy.eval(session=sess,feed_dict={X: X_batch, Y: Y_batch})\n",
    "    \n",
    "    accTr.append(acc_train)\n",
    "\n",
    "    rndm = np.random.randint(0,733,30)\n",
    "\n",
    "    X_test = frames[rndm]\n",
    "    Y_test = class_type[rndm]\n",
    "\n",
    "    acc_test = accuracy.eval(session=sess,feed_dict={X: X_test,\n",
    "    Y: Y_test})\n",
    "    \n",
    "    accTst.append(acc_test)\n",
    "\n",
    "    print(epoch, \"Train accuracy:\", acc_train, \"Test accuracy:\", acc_test)\n",
    "\n",
    "    if epoch%50 ==1:\n",
    "        saved_path = saver.save(sess, './classification_model/'+str(epoch)+'/model', global_step=epoch)\n"
   ]
  },
  {
   "cell_type": "code",
   "execution_count": 21,
   "metadata": {},
   "outputs": [
    {
     "data": {
      "text/plain": [
       "[<matplotlib.lines.Line2D at 0x7fe96d1048d0>]"
      ]
     },
     "execution_count": 21,
     "metadata": {},
     "output_type": "execute_result"
    },
    {
     "data": {
      "image/png": "[encoded data removed]",
      "text/plain": [
       "<Figure size 432x288 with 1 Axes>"
      ]
     },
     "metadata": {
      "needs_background": "light"
     },
     "output_type": "display_data"
    }
   ],
   "source": [
    "plt.plot(accTst)"
   ]
  },
  {
   "cell_type": "code",
   "execution_count": 20,
   "metadata": {},
   "outputs": [
    {
     "data": {
      "text/plain": [
       "1.0"
      ]
     },
     "execution_count": 20,
     "metadata": {},
     "output_type": "execute_result"
    }
   ],
   "source": [
    "acc_test"
   ]
  },
  {
   "cell_type": "code",
   "execution_count": null,
   "metadata": {},
   "outputs": [],
   "source": []
  }
 ],
 "metadata": {
  "kernelspec": {
   "display_name": "Python 3",
   "language": "python",
   "name": "python3"
  },
  "language_info": {
   "codemirror_mode": {
    "name": "ipython",
    "version": 3
   },
   "file_extension": ".py",
   "mimetype": "text/x-python",
   "name": "python",
   "nbconvert_exporter": "python",
   "pygments_lexer": "ipython3",
   "version": "3.6.9"
  }
 },
 "nbformat": 4,
 "nbformat_minor": 2
}
