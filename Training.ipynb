{
 "cells": [
  {
   "cell_type": "code",
   "execution_count": 1,
   "metadata": {},
   "outputs": [],
   "source": [
    "import os\n",
    "import numpy as np\n",
    "import matplotlib.pyplot as plt\n",
    "from datetime import datetime"
   ]
  },
  {
   "cell_type": "code",
   "execution_count": 2,
   "metadata": {},
   "outputs": [],
   "source": [
    "import tensorflow as tf"
   ]
  },
  {
   "cell_type": "code",
   "execution_count": 3,
   "metadata": {},
   "outputs": [],
   "source": [
    "from Data_loader import *\n",
    "from Neural_network import *"
   ]
  },
  {
   "cell_type": "code",
   "execution_count": 4,
   "metadata": {},
   "outputs": [],
   "source": [
    "x = tf.placeholder('float', [None, 4096])\n",
    "#y = tf.placeholder('float')\n",
    "hl = tf.placeholder('float') #hinge_loss"
   ]
  },
  {
   "cell_type": "code",
   "execution_count": 5,
   "metadata": {},
   "outputs": [],
   "source": [
    "Anomaly,Normal=get_training_set(\"./out\")"
   ]
  },
  {
   "cell_type": "code",
   "execution_count": 6,
   "metadata": {},
   "outputs": [],
   "source": [
    "output , weights_1 , weights_2, weights_3 = dnn_network(x)\n",
    "cost = 0.001 * (tf.nn.l2_loss(weights_1) + tf.nn.l2_loss(weights_2) + tf.nn.l2_loss(weights_3)) + hl\n",
    "optimizer = tf.train.AdagradOptimizer(0.001).minimize(cost)\n"
   ]
  },
  {
   "cell_type": "code",
   "execution_count": 7,
   "metadata": {},
   "outputs": [],
   "source": [
    "saver = tf.train.Saver()  # to save model"
   ]
  },
  {
   "cell_type": "code",
   "execution_count": 8,
   "metadata": {},
   "outputs": [],
   "source": [
    "# Stoering details for tensorboard\n",
    "tf.summary.scalar('cost', cost)\n",
    "tf.summary.histogram('h_w1', weights_1)\n",
    "tf.summary.histogram('h_w2',weights_2)\n",
    "tf.summary.histogram('h_w3',weights_3)\n",
    "merged_summary_op = tf.summary.merge_all()"
   ]
  },
  {
   "cell_type": "code",
   "execution_count": 9,
   "metadata": {},
   "outputs": [],
   "source": [
    "# Initialize and run\n",
    "init = tf.global_variables_initializer()\n",
    "sess = tf.Session()\n",
    "sess.run(init)"
   ]
  },
  {
   "cell_type": "code",
   "execution_count": 25,
   "metadata": {},
   "outputs": [],
   "source": [
    "epochs=501\n",
    "print_epoch =20\n",
    "save_model_epoch=500\n",
    "count=0"
   ]
  },
  {
   "cell_type": "code",
   "execution_count": 26,
   "metadata": {},
   "outputs": [
    {
     "name": "stdout",
     "output_type": "stream",
     "text": [
      "Epoch 1 completed out of 2 loss: 293.29483\n"
     ]
    }
   ],
   "source": [
    "\n",
    "#los =[] #loss array\n",
    "\n",
    "train_writer = tf.summary.FileWriter(\"./logs/Dnn_session\",tf.get_default_graph())\n",
    "\n",
    "for epoch in range(epochs):\n",
    "\n",
    "    i=0\n",
    "    anomaly,normal = get_training_set(\"./out\") # getting data\n",
    "\n",
    "    while i < len(anomaly):\n",
    "\n",
    "        start = i\n",
    "\n",
    "        end =i+batch_size\n",
    "\n",
    "        batch_x =np.array(anomaly[start:end])\n",
    "        batch_y =np.array(normal[start:end])  # Single Video of normal and anomolus\n",
    "\n",
    "\n",
    "        anomaly_score = sess.run(output,feed_dict={x: batch_x})\n",
    "        normal_score,W1= sess.run([output,weights_1],feed_dict={x: batch_y})  # calaculated score of anomolus and normal video\n",
    "\n",
    "        # calculation of hinge loss-------------------------------------------------\n",
    "        anomaly_score = anomaly_score.flatten()\n",
    "        normal_score = normal_score.flatten()\n",
    "\n",
    "        l = max(0.0,(1-anomaly_score.max()+normal_score.max())) #loss implementation\n",
    "\n",
    "        add = 0.0\n",
    "        for index in range(len(anomaly_score) - 1):\n",
    "            add += (anomaly_score[index] - anomaly_score[index+1]) ** 2\n",
    "\n",
    "        final_cost = l + (add*1.0 + anomaly_score.sum()) * 0.00008 \n",
    "\n",
    "        # loss completd----------------------------------------------------------\n",
    "\n",
    "        o,_,cst,summ = sess.run([optimizer,output,cost,merged_summary_op], feed_dict={hl : final_cost,x: batch_x})\n",
    "\n",
    "\n",
    "        i =i + batch_size\n",
    "\n",
    "        train_writer.add_summary(summ,count) # summaries for tensorBoard\n",
    "\n",
    "        count += 1\n",
    "    #los.append(cst)\n",
    "\n",
    "    if epoch %print_epoch ==1:\n",
    "        print('Epoch', epoch, 'completed out of',epochs,'loss:',cst)\n",
    "\n",
    "    if epoch%save_model_epoch == 1:\n",
    "        saved_path = saver.save(sess, './model_logs/'+str(epoch)+'/model', global_step=epoch)\n"
   ]
  },
  {
   "cell_type": "code",
   "execution_count": 15,
   "metadata": {},
   "outputs": [],
   "source": [
    "import matplotlib.pyplot as plt"
   ]
  },
  {
   "cell_type": "code",
   "execution_count": 21,
   "metadata": {},
   "outputs": [
    {
     "data": {
      "text/plain": [
       "[<matplotlib.lines.Line2D at 0x7f8bc78f97b8>]"
      ]
     },
     "execution_count": 21,
     "metadata": {},
     "output_type": "execute_result"
    },
    {
     "data": {
      "image/png": "[encoded data removed]",
      "text/plain": [
       "<Figure size 432x288 with 1 Axes>"
      ]
     },
     "metadata": {
      "needs_background": "light"
     },
     "output_type": "display_data"
    }
   ],
   "source": [
    "plt.plot(los)"
   ]
  }
 ],
 "metadata": {
  "kernelspec": {
   "display_name": "Python 3",
   "language": "python",
   "name": "python3"
  },
  "language_info": {
   "codemirror_mode": {
    "name": "ipython",
    "version": 3
   },
   "file_extension": ".py",
   "mimetype": "text/x-python",
   "name": "python",
   "nbconvert_exporter": "python",
   "pygments_lexer": "ipython3",
   "version": "3.6.9"
  }
 },
 "nbformat": 4,
 "nbformat_minor": 2
}
